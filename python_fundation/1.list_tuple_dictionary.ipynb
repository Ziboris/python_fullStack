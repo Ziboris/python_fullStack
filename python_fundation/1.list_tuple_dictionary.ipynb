{
 "cells": [
  {
   "cell_type": "code",
   "execution_count": 2,
   "metadata": {},
   "outputs": [
    {
     "name": "stdout",
     "output_type": "stream",
     "text": [
      "[1, 120, 9, 'age', ['石振文', ['19', 10], '庞麦郎'], 'alex', True]\n"
     ]
    }
   ],
   "source": [
    "li = [1, 12, 9, \"age\", [\"石振文\", [\"19\", 10], \"庞麦郎\"], \"alex\", True]\n",
    "li[1] = 120\n",
    "print(li)"
   ]
  },
  {
   "cell_type": "markdown",
   "metadata": {},
   "source": [
    "字符串转换为列表"
   ]
  },
  {
   "cell_type": "code",
   "execution_count": 5,
   "metadata": {},
   "outputs": [
    {
     "name": "stdout",
     "output_type": "stream",
     "text": [
      "['a', 's', 'k', 'j', 'd', 'h', 'c', 'k', 'j', 's', 'h', 'a']\n"
     ]
    }
   ],
   "source": [
    "li=list(\"askjdhckjsha\")\n",
    "print(li)"
   ]
  },
  {
   "cell_type": "code",
   "execution_count": null,
   "metadata": {
    "collapsed": true
   },
   "outputs": [],
   "source": [
    "关于列表的拼接：如果全是字符串直接join；如果含有杂七杂八的只能老实的循环遍历"
   ]
  },
  {
   "cell_type": "code",
   "execution_count": 6,
   "metadata": {},
   "outputs": [
    {
     "data": {
      "text/plain": [
       "'helloworrldziboris'"
      ]
     },
     "execution_count": 6,
     "metadata": {},
     "output_type": "execute_result"
    }
   ],
   "source": [
    "li=[\"hello\",\"worrld\",\"ziboris\"]\n",
    "res=\"\".join(li)\n",
    "res"
   ]
  },
  {
   "cell_type": "code",
   "execution_count": 12,
   "metadata": {},
   "outputs": [
    {
     "name": "stdout",
     "output_type": "stream",
     "text": [
      "['hello', 'worrld', 'ziboris', 23]\n",
      "helloworrldziboris23\n"
     ]
    }
   ],
   "source": [
    "li=[\"hello\",\"worrld\",\"ziboris\"]\n",
    "li.append(23)\n",
    "print(li)\n",
    "s=\"\"\n",
    "for i in li:\n",
    "   s+=str(i)\n",
    "print(s)\n",
    "# res2=\"\".join(li)\n",
    "# print(res2)"
   ]
  },
  {
   "cell_type": "code",
   "execution_count": null,
   "metadata": {
    "collapsed": true
   },
   "outputs": [],
   "source": [
    "tuple 创建之后不能修改，增加或者删除"
   ]
  },
  {
   "cell_type": "code",
   "execution_count": 16,
   "metadata": {
    "scrolled": true
   },
   "outputs": [
    {
     "name": "stdout",
     "output_type": "stream",
     "text": [
      "1\n"
     ]
    },
    {
     "data": {
      "text/plain": [
       "3"
      ]
     },
     "execution_count": 16,
     "metadata": {},
     "output_type": "execute_result"
    }
   ],
   "source": [
    "tu=(11,22,33,\"helloworld\")\n",
    "print(tu.count(11))\n",
    "# tu.index(\"hello\")\n",
    "tu.index(\"helloworld\")"
   ]
  },
  {
   "cell_type": "code",
   "execution_count": 17,
   "metadata": {},
   "outputs": [
    {
     "name": "stdout",
     "output_type": "stream",
     "text": [
      "('a', 's', 'd', 'f', 'a', 's', 'd', 'f', '0')\n",
      "('asdf', 'asdfasdf')\n",
      "['asdf', 'asdf']\n",
      "asdf_asdf\n",
      "['asdf', 'asdfasdf', 11, 22, 33]\n"
     ]
    }
   ],
   "source": [
    "s = \"asdfasdf0\"\n",
    "li = [\"asdf\",\"asdfasdf\"]\n",
    "tu = (\"asdf\",\"asdf\")\n",
    "\n",
    "v = tuple(s)\n",
    "print(v)\n",
    "\n",
    "v = tuple(li)\n",
    "print(v)\n",
    "\n",
    "v = list(tu)\n",
    "print(v)\n",
    "\n",
    "v = \"_\".join(tu)\n",
    "print(v)\n",
    "\n",
    "li = [\"asdf\",\"asdfasdf\"]\n",
    "li.extend((11,22,33,))\n",
    "print(li)"
   ]
  },
  {
   "cell_type": "code",
   "execution_count": null,
   "metadata": {
    "collapsed": true
   },
   "outputs": [],
   "source": [
    "元组的一级元素不可修改/删除/增加,更高级别的可以针对性修改"
   ]
  },
  {
   "cell_type": "code",
   "execution_count": 18,
   "metadata": {},
   "outputs": [
    {
     "name": "stdout",
     "output_type": "stream",
     "text": [
      "33\n",
      "[(33, 44)]\n",
      "(111, 'alex', (11, 22), [567], True, 33, 44)\n"
     ]
    }
   ],
   "source": [
    "tu = (111,\"alex\",(11,22),[(33,44)],True,33,44,)\n",
    "# 元组，有序。\n",
    "v = tu[3][0][0]\n",
    "print(v)\n",
    "v=tu[3]\n",
    "print(v)\n",
    "tu[3][0] = 567\n",
    "print(tu)"
   ]
  },
  {
   "cell_type": "code",
   "execution_count": null,
   "metadata": {
    "collapsed": true
   },
   "outputs": [],
   "source": [
    "根据序列，创建字典，并指定统一的值"
   ]
  },
  {
   "cell_type": "code",
   "execution_count": 19,
   "metadata": {},
   "outputs": [
    {
     "name": "stdout",
     "output_type": "stream",
     "text": [
      "{'k1': 123, 123: 123, '999': 123}\n"
     ]
    }
   ],
   "source": [
    "v = dict.fromkeys([\"k1\",123,\"999\"],123)\n",
    "print(v)"
   ]
  },
  {
   "cell_type": "code",
   "execution_count": null,
   "metadata": {
    "collapsed": true
   },
   "outputs": [],
   "source": [
    "字典的获取和删除"
   ]
  },
  {
   "cell_type": "code",
   "execution_count": 5,
   "metadata": {},
   "outputs": [
    {
     "name": "stdout",
     "output_type": "stream",
     "text": [
      "v1\n",
      "{'k2': 'v2'} v1\n",
      "{} k2 v2\n"
     ]
    }
   ],
   "source": [
    "dic = {\n",
    "    \"k1\": 'v1',\n",
    "    \"k2\": 'v2'\n",
    "}\n",
    "# v = dic['k11111']\n",
    "# print(v)\n",
    "v = dic.get('k1',111111)\n",
    "print(v)\n",
    "v = dic.pop('k1',90)#直接pop 参数为key的时候输出value\n",
    "print(dic,v)\n",
    "k,v = dic.popitem()#需要pop出K-V对，可以用popitem\n",
    "print(dic,k,v)"
   ]
  },
  {
   "cell_type": "code",
   "execution_count": 9,
   "metadata": {},
   "outputs": [
    {
     "name": "stdout",
     "output_type": "stream",
     "text": [
      "{'k1': 'v1', 'k2': 'v2', 'k1111': '123'} 123\n",
      "{'k1': '111111', 'k2': 'v2', 'k1111': '123', 'k3': 123}\n",
      "{'k1': 123, 'k2': 'v2', 'k1111': '123', 'k3': 345, 'k5': 'asdf'}\n"
     ]
    }
   ],
   "source": [
    "dic = {\n",
    "    \"k1\": 'v1',\n",
    "    \"k2\": 'v2'\n",
    "}\n",
    "v = dic.setdefault('k1111','123')\n",
    "print(dic,v)\n",
    "dic.update({'k1': '111111','k3': 123})\n",
    "print(dic)\n",
    "dic.update(k1=123,k3=345,k5=\"asdf\")#这种写法不错\n",
    "print(dic)"
   ]
  },
  {
   "cell_type": "code",
   "execution_count": 14,
   "metadata": {},
   "outputs": [
    {
     "name": "stdout",
     "output_type": "stream",
     "text": [
      "keys: dict_keys(['k1', 'k2', 'k3', 'k5'])\n",
      "values: dict_values([123, 'v2', 345, 'asdf'])\n",
      "items dict_items([('k1', 123), ('k2', 'v2'), ('k3', 345), ('k5', 'asdf')])\n"
     ]
    }
   ],
   "source": [
    "dic = {\n",
    "    \"k1\": 'v1',\n",
    "    \"k2\": 'v2'\n",
    "}\n",
    "dic.update(k1=123,k3=345,k5=\"asdf\")\n",
    "print(\"keys:\",dic.keys())\n",
    "print(\"values:\",dic.values())\n",
    "print(\"items\",dic.items())"
   ]
  },
  {
   "cell_type": "code",
   "execution_count": null,
   "metadata": {
    "collapsed": true
   },
   "outputs": [],
   "source": [
    "字典的value可以是任何的类型,key的类型也可以多样化，但是必须是hashable(这三个里面只有tuple可以hashable)"
   ]
  },
  {
   "cell_type": "code",
   "execution_count": 15,
   "metadata": {},
   "outputs": [
    {
     "name": "stdout",
     "output_type": "stream",
     "text": [
      "{'k1': 18, 'k2': True, 'k3': [11, [], (), 22, 33, {'kk1': 'vv1', 'kk2': 'vv2', 'kk3': (11, 22)}], 'k4': (11, 22, 33, 44)}\n"
     ]
    }
   ],
   "source": [
    "info = {\n",
    "    \"k1\": 18,\n",
    "    \"k2\": True,\n",
    "    \"k3\": [\n",
    "        11,\n",
    "        [],\n",
    "        (),\n",
    "        22,\n",
    "        33,\n",
    "        {\n",
    "            'kk1': 'vv1',\n",
    "            'kk2': 'vv2',\n",
    "            'kk3': (11,22),\n",
    "        }\n",
    "    ],\n",
    "    \"k4\": (11,22,33,44)\n",
    "}\n",
    "print(info)"
   ]
  },
  {
   "cell_type": "code",
   "execution_count": 27,
   "metadata": {},
   "outputs": [
    {
     "name": "stdout",
     "output_type": "stream",
     "text": [
      "{445: '23', 13: '445', 'k2': 255, (11, 22, 33): (11, 22, 33)}\n"
     ]
    }
   ],
   "source": [
    "mydic={445:\"23\",13:\"445\",\"k2\":255,(11,22,33):(11,22,33)}\n",
    "# mydic={23:\"23\",445:\"445\",\"k2\":255,(11,22,33):(11,22,33),{\"ke\":11,\"ku\":22}:22}\n",
    "# mydic={23:\"23\",445:\"445\",\"k2\":255,(11,22,33):(11,22,33),[11,22,33]:(12,23,34)}\n",
    "print(mydic)"
   ]
  },
  {
   "cell_type": "code",
   "execution_count": null,
   "metadata": {
    "collapsed": true
   },
   "outputs": [],
   "source": [
    "字典的索引定位"
   ]
  },
  {
   "cell_type": "code",
   "execution_count": 28,
   "metadata": {},
   "outputs": [
    {
     "name": "stdout",
     "output_type": "stream",
     "text": [
      "11\n"
     ]
    }
   ],
   "source": [
    "info = {\n",
    "    \"k1\": 18,\n",
    "    2: True,\n",
    "    \"k3\": [\n",
    "        11,\n",
    "        [],\n",
    "        (),\n",
    "        22,\n",
    "        33,\n",
    "        {\n",
    "            'kk1': 'vv1',\n",
    "            'kk2': 'vv2',\n",
    "            'kk3': (11,22),\n",
    "        }\n",
    "    ],\n",
    "    \"k4\": (11,22,33,44)\n",
    "}\n",
    "# v = info['k1']\n",
    "# print(v)\n",
    "# v = info[2]\n",
    "# print(v)\n",
    "v = info['k3'][5]['kk3'][0]#如果是list和tuple都是下标寻找，dic是key寻找，可以都放在中括号里面，统一\n",
    "print(v)"
   ]
  },
  {
   "cell_type": "code",
   "execution_count": null,
   "metadata": {
    "collapsed": true
   },
   "outputs": [],
   "source": [
    "1-8 组成互不相同、没有重复数字的两位数"
   ]
  },
  {
   "cell_type": "code",
   "execution_count": 34,
   "metadata": {},
   "outputs": [
    {
     "ename": "SyntaxError",
     "evalue": "unexpected EOF while parsing (<ipython-input-34-a733eba710ea>, line 6)",
     "output_type": "error",
     "traceback": [
      "\u001b[1;36m  File \u001b[1;32m\"<ipython-input-34-a733eba710ea>\"\u001b[1;36m, line \u001b[1;32m6\u001b[0m\n\u001b[1;33m    #             print (i*10+j)\u001b[0m\n\u001b[1;37m                                ^\u001b[0m\n\u001b[1;31mSyntaxError\u001b[0m\u001b[1;31m:\u001b[0m unexpected EOF while parsing\n"
     ]
    }
   ],
   "source": [
    "tu=tuple(range(9))\n",
    "# print(tu)\n",
    "for i in tu:\n",
    "    for j in tu:\n",
    "        if i !=j and i!=0:\n",
    "#             print (i*10+j)"
   ]
  },
  {
   "cell_type": "code",
   "execution_count": null,
   "metadata": {
    "collapsed": true
   },
   "outputs": [],
   "source": [
    "99乘法表"
   ]
  },
  {
   "cell_type": "code",
   "execution_count": 35,
   "metadata": {},
   "outputs": [
    {
     "name": "stdout",
     "output_type": "stream",
     "text": [
      "1 * 1 = 1\t\n",
      "1 * 2 = 2\t2 * 2 = 4\t\n",
      "1 * 3 = 3\t2 * 3 = 6\t3 * 3 = 9\t\n",
      "1 * 4 = 4\t2 * 4 = 8\t3 * 4 = 12\t4 * 4 = 16\t\n",
      "1 * 5 = 5\t2 * 5 = 10\t3 * 5 = 15\t4 * 5 = 20\t5 * 5 = 25\t\n",
      "1 * 6 = 6\t2 * 6 = 12\t3 * 6 = 18\t4 * 6 = 24\t5 * 6 = 30\t6 * 6 = 36\t\n",
      "1 * 7 = 7\t2 * 7 = 14\t3 * 7 = 21\t4 * 7 = 28\t5 * 7 = 35\t6 * 7 = 42\t7 * 7 = 49\t\n",
      "1 * 8 = 8\t2 * 8 = 16\t3 * 8 = 24\t4 * 8 = 32\t5 * 8 = 40\t6 * 8 = 48\t7 * 8 = 56\t8 * 8 = 64\t\n",
      "1 * 9 = 9\t2 * 9 = 18\t3 * 9 = 27\t4 * 9 = 36\t5 * 9 = 45\t6 * 9 = 54\t7 * 9 = 63\t8 * 9 = 72\t9 * 9 = 81\t\n"
     ]
    }
   ],
   "source": [
    "for i in range(1,10):\n",
    "    string = \"\"\n",
    "    for j in range(1,i+1):\n",
    "        string +=str(j) + \" * \"+str(i) + \" = \" +str(i*j)+\"\\t\"\n",
    "    print(string)"
   ]
  },
  {
   "cell_type": "code",
   "execution_count": null,
   "metadata": {
    "collapsed": true
   },
   "outputs": [],
   "source": []
  }
 ],
 "metadata": {
  "kernelspec": {
   "display_name": "Python 3",
   "language": "python",
   "name": "python3"
  },
  "language_info": {
   "codemirror_mode": {
    "name": "ipython",
    "version": 3
   },
   "file_extension": ".py",
   "mimetype": "text/x-python",
   "name": "python",
   "nbconvert_exporter": "python",
   "pygments_lexer": "ipython3",
   "version": "3.6.3"
  }
 },
 "nbformat": 4,
 "nbformat_minor": 2
}
