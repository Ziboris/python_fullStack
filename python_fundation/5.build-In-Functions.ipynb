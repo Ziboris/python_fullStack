{
 "cells": [
  {
   "cell_type": "code",
   "execution_count": null,
   "metadata": {
    "collapsed": true
   },
   "outputs": [],
   "source": [
    "zip 生成一一对应的集合列表"
   ]
  },
  {
   "cell_type": "code",
   "execution_count": 6,
   "metadata": {},
   "outputs": [
    {
     "name": "stdout",
     "output_type": "stream",
     "text": [
      "[('a', 1), ('n', 2), ('c', 3)]\n",
      "[('a', 1), ('n', 2), ('c', 3)]\n",
      "[('a', 1), ('n', 2), ('c', 3)]\n",
      "[('name', 'alex'), ('age', 18), ('gender', 'none')]\n"
     ]
    }
   ],
   "source": [
    "print(list(zip(['a','n','c'],(1,2,3))))\n",
    "print(list(zip(('a','n','c'),(1,2,3,4))))\n",
    "print(list(zip(('a','n','c','d'),(1,2,3))))\n",
    "\n",
    "p={'name':'alex','age':18,'gender':'none'}\n",
    "# print(p.keys())\n",
    "a=list(zip(p.keys(),p.values()))\n",
    "print(a)"
   ]
  }
 ],
 "metadata": {
  "kernelspec": {
   "display_name": "Python 3",
   "language": "python",
   "name": "python3"
  },
  "language_info": {
   "codemirror_mode": {
    "name": "ipython",
    "version": 3
   },
   "file_extension": ".py",
   "mimetype": "text/x-python",
   "name": "python",
   "nbconvert_exporter": "python",
   "pygments_lexer": "ipython3",
   "version": "3.6.3"
  }
 },
 "nbformat": 4,
 "nbformat_minor": 2
}
