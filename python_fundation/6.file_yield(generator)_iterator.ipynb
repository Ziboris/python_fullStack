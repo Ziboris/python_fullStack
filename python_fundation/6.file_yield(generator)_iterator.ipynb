{
 "cells": [
  {
   "cell_type": "code",
   "execution_count": null,
   "metadata": {
    "collapsed": true
   },
   "outputs": [],
   "source": [
    "文件IO操作 1.b模式，都不能指定字符的编码格式，因为这是下一层的逻辑"
   ]
  },
  {
   "cell_type": "code",
   "execution_count": 2,
   "metadata": {},
   "outputs": [
    {
     "name": "stdout",
     "output_type": "stream",
     "text": [
      "b'hello1\\r\\n22222\\r\\n33333\\r\\n4444\\r\\n\\xe4\\xbd\\xa0\\xe5\\xa5\\xbd\\xe5\\x95\\x8a\\xe6\\x9e\\x97\\xe5\\xb8\\x88\\xe5\\x82\\x85'\n",
      "hello1\r\n",
      "22222\r\n",
      "33333\r\n",
      "4444\r\n",
      "你好啊林师傅\n"
     ]
    }
   ],
   "source": [
    "# f=open('test11.py','rb',encoding='utf-8') #b的方式不能指定编码\n",
    "f=open('test11.py','rb') #b的方式不能指定编码\n",
    "data=f.read()\n",
    "#'字符串'---------encode---------》bytes\n",
    "#bytes---------decode---------》'字符串'\n",
    "print(data)\n",
    "print(data.decode('utf-8'))\n",
    "f.close()"
   ]
  },
  {
   "cell_type": "code",
   "execution_count": 3,
   "metadata": {},
   "outputs": [
    {
     "data": {
      "text/plain": [
       "6"
      ]
     },
     "execution_count": 3,
     "metadata": {},
     "output_type": "execute_result"
    }
   ],
   "source": [
    "f=open('test22.py','wb') #b的方式不能指定编码\n",
    "f.write(bytes('1111\\n',encoding='utf-8'))\n",
    "f.write('杨件'.encode('utf-8'))"
   ]
  },
  {
   "cell_type": "code",
   "execution_count": null,
   "metadata": {
    "collapsed": true
   },
   "outputs": [],
   "source": [
    "文件IO操作 其他方式"
   ]
  },
  {
   "cell_type": "code",
   "execution_count": 8,
   "metadata": {},
   "outputs": [
    {
     "data": {
      "text/plain": [
       "2"
      ]
     },
     "execution_count": 8,
     "metadata": {},
     "output_type": "execute_result"
    }
   ],
   "source": [
    "f=open('a.txt','r+',encoding='gb2312')\n",
    "# data=f.read()\n",
    "# print(data)\n",
    "f.write('你好')"
   ]
  },
  {
   "cell_type": "code",
   "execution_count": null,
   "metadata": {
    "collapsed": true
   },
   "outputs": [],
   "source": [
    "读取大文件的最后一行"
   ]
  },
  {
   "cell_type": "code",
   "execution_count": 4,
   "metadata": {},
   "outputs": [
    {
     "name": "stdout",
     "output_type": "stream",
     "text": [
      "this is last line b'\\t\\t\\t\\t\\t\\t\\t\\t     '\n"
     ]
    }
   ],
   "source": [
    "f=open('BigFile.txt','rb')\n",
    "for i in f:\n",
    "    offs=-3\n",
    "    n=0\n",
    "    while True:\n",
    "        f.seek(offs,2) #第二个参数，从哪里开始偏移；0表示文件的头，1表示文件的当前位置，2表示文件的末尾\n",
    "        data=f.readlines() #readlines表示从当前开始的所有文件行，知道读到EOF\n",
    "        if len(data)>1: #制表和空格的长度也会计算在里面\n",
    "            print('this is last line',data[-1])\n",
    "            break\n",
    "        offs*=2 "
   ]
  },
  {
   "cell_type": "code",
   "execution_count": null,
   "metadata": {
    "collapsed": true
   },
   "outputs": [],
   "source": [
    "生成器generator：就是一个可迭代对象\n",
    "yield 的作用就是把一个函数变成一个 generator，带有 yield 的函数不再是一个普通函数，Python 解释器会将其视为一个 generator，\n",
    "调用 fab(5) 不会执行 fab 函数，而是返回一个 iterable 对象！\n",
    "在 for 循环执行时，每次循环都会执行 fab 函数内部的代码，执行到 yield b 时，fab 函数就返回一个迭代值，\n",
    "下次迭代时，代码从 yield b 的下一条语句继续执行，而函数的本地变量看起来和上次中断执行前是完全一样的，于是函数继续执行，直到再次遇到 yield。"
   ]
  },
  {
   "cell_type": "code",
   "execution_count": 10,
   "metadata": {},
   "outputs": [
    {
     "name": "stdout",
     "output_type": "stream",
     "text": [
      "来自函数 <generator object test at 0x00000269ECAF8888>\n",
      "1\n",
      "2\n"
     ]
    }
   ],
   "source": [
    "def test():\n",
    "    yield 1\n",
    "    yield 2\n",
    "    yield 3\n",
    "g=test()\n",
    "print('来自函数',g)\n",
    "print(g.__next__())\n",
    "print(g.__next__())"
   ]
  },
  {
   "cell_type": "code",
   "execution_count": 7,
   "metadata": {},
   "outputs": [
    {
     "name": "stdout",
     "output_type": "stream",
     "text": [
      "{'name':'北京','population':10}\n",
      "\n",
      "{'name':'山东','population':1000000}\n",
      "\n",
      "{'name':'山西','population':31}\n",
      "\n",
      "{'name':'河北','population':3110330000}\n",
      "\n"
     ]
    }
   ],
   "source": [
    "def get_polulation():\n",
    "    with open('人口普查', 'r', encoding='utf-8') as f:\n",
    "        for i in f:\n",
    "            yield i\n",
    "\n",
    "\n",
    "g=get_polulation()\n",
    "print(g.__next__())\n",
    "print(g.__next__())\n",
    "print(g.__next__())\n",
    "print(g.__next__())"
   ]
  },
  {
   "cell_type": "code",
   "execution_count": null,
   "metadata": {
    "collapsed": true
   },
   "outputs": [],
   "source": [
    "生成器表达式 方括号形成list，如果是小括号是生成器，包含迭代器协议"
   ]
  },
  {
   "cell_type": "code",
   "execution_count": null,
   "metadata": {
    "collapsed": true
   },
   "outputs": [],
   "source": [
    "# egg_list=[]\n",
    "# for i in range(10):\n",
    "#     egg_list.append('鸡蛋%s' %i)\n",
    "# print(egg_list)\n",
    "\n",
    "l=['鸡蛋%s' %i for i in range(10)] #直接的列表解析\n",
    "# l1=['鸡蛋%s' %i for i in range(10) if i > 5 ]\n",
    "# # l1=['鸡蛋%s' %i for i in range(10) if i > 5 else i] #没有四元表达式\n",
    "# l2=['鸡蛋%s' %i for i in range(10) if i < 5] #没有四元表达式"
   ]
  },
  {
   "cell_type": "code",
   "execution_count": null,
   "metadata": {
    "collapsed": true
   },
   "outputs": [],
   "source": [
    "laomuji=('鸡蛋%s' %i for i in range(10)) \n",
    "print(laomuji)\n",
    "print(laomuji.__next__())\n",
    "print(laomuji.__next__())\n",
    "print(next(laomuji))\n",
    "print(next(laomuji))\n",
    "print(next(laomuji))\n",
    "print(next(laomuji))\n",
    "print(next(laomuji))\n",
    "print(next(laomuji))\n",
    "print(next(laomuji))\n",
    "print(next(laomuji))"
   ]
  },
  {
   "cell_type": "code",
   "execution_count": null,
   "metadata": {
    "collapsed": true
   },
   "outputs": [],
   "source": [
    "迭代器iterator __iter__()生成一个可迭代对象，就是一个迭代器"
   ]
  },
  {
   "cell_type": "code",
   "execution_count": 8,
   "metadata": {},
   "outputs": [
    {
     "name": "stdout",
     "output_type": "stream",
     "text": [
      "<list_iterator object at 0x00000269ECC0C7F0>\n",
      "die\n",
      "erzi\n",
      "sunzi\n",
      "chongsunzi\n"
     ]
    },
    {
     "ename": "StopIteration",
     "evalue": "",
     "output_type": "error",
     "traceback": [
      "\u001b[1;31m---------------------------------------------------------------------------\u001b[0m",
      "\u001b[1;31mStopIteration\u001b[0m                             Traceback (most recent call last)",
      "\u001b[1;32m<ipython-input-8-1abc8fed39a2>\u001b[0m in \u001b[0;36m<module>\u001b[1;34m()\u001b[0m\n\u001b[0;32m      7\u001b[0m \u001b[0mprint\u001b[0m\u001b[1;33m(\u001b[0m\u001b[0miter_l\u001b[0m\u001b[1;33m.\u001b[0m\u001b[0m__next__\u001b[0m\u001b[1;33m(\u001b[0m\u001b[1;33m)\u001b[0m\u001b[1;33m)\u001b[0m\u001b[1;33m\u001b[0m\u001b[0m\n\u001b[0;32m      8\u001b[0m \u001b[0mprint\u001b[0m\u001b[1;33m(\u001b[0m\u001b[0miter_l\u001b[0m\u001b[1;33m.\u001b[0m\u001b[0m__next__\u001b[0m\u001b[1;33m(\u001b[0m\u001b[1;33m)\u001b[0m\u001b[1;33m)\u001b[0m\u001b[1;33m\u001b[0m\u001b[0m\n\u001b[1;32m----> 9\u001b[1;33m \u001b[0mprint\u001b[0m\u001b[1;33m(\u001b[0m\u001b[0miter_l\u001b[0m\u001b[1;33m.\u001b[0m\u001b[0m__next__\u001b[0m\u001b[1;33m(\u001b[0m\u001b[1;33m)\u001b[0m\u001b[1;33m)\u001b[0m\u001b[1;33m\u001b[0m\u001b[0m\n\u001b[0m",
      "\u001b[1;31mStopIteration\u001b[0m: "
     ]
    }
   ],
   "source": [
    "l=['die','erzi','sunzi','chongsunzi']\n",
    "\n",
    "iter_l=l.__iter__()\n",
    "print(iter_l)\n",
    "print(iter_l.__next__())\n",
    "print(iter_l.__next__())\n",
    "print(iter_l.__next__())\n",
    "print(iter_l.__next__())\n",
    "print(iter_l.__next__())"
   ]
  }
 ],
 "metadata": {
  "kernelspec": {
   "display_name": "Python 3",
   "language": "python",
   "name": "python3"
  },
  "language_info": {
   "codemirror_mode": {
    "name": "ipython",
    "version": 3
   },
   "file_extension": ".py",
   "mimetype": "text/x-python",
   "name": "python",
   "nbconvert_exporter": "python",
   "pygments_lexer": "ipython3",
   "version": "3.6.3"
  }
 },
 "nbformat": 4,
 "nbformat_minor": 2
}
