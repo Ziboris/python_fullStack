{
 "cells": [
  {
   "cell_type": "code",
   "execution_count": null,
   "metadata": {
    "collapsed": true
   },
   "outputs": [],
   "source": [
    "【装饰器】：本质是写一个函数，为其他函数添加附加功能\n",
    "原则：1 不修改被装饰函数的源代码\n",
    "2.不修改被装饰函数的调用方式\n",
    "\n",
    "装饰器=高阶函数+函数嵌套+闭包"
   ]
  },
  {
   "cell_type": "code",
   "execution_count": null,
   "metadata": {
    "collapsed": true
   },
   "outputs": [],
   "source": [
    "【高阶函数】：满足一条即可\n",
    "1.函数的接收参数是一个函数名\n",
    "2.函数的返回值是一个函数名"
   ]
  },
  {
   "cell_type": "code",
   "execution_count": 2,
   "metadata": {},
   "outputs": [
    {
     "name": "stdout",
     "output_type": "stream",
     "text": [
      "<function foo at 0x000002652A2B87B8>\n",
      "hello ziboris\n"
     ]
    }
   ],
   "source": [
    "def foo():#---原函数\n",
    "    print(\"hello ziboris\")\n",
    "\n",
    "def test(func): #---装饰函数\n",
    "    print(func) #如果参数是函数名 那么打印的时候函数的地址\n",
    "    func() #执行具体传入的函数\n",
    "\n",
    "\n",
    "test(foo)"
   ]
  },
  {
   "cell_type": "code",
   "execution_count": 4,
   "metadata": {},
   "outputs": [
    {
     "name": "stdout",
     "output_type": "stream",
     "text": [
      "hello ziboris\n",
      "func use time : 1.0004544258117676\n"
     ]
    }
   ],
   "source": [
    "import time\n",
    "def foo():#---原函数\n",
    "    print(\"hello ziboris\")\n",
    "    time.sleep(1) #time的库中的单位都是秒 \n",
    "\n",
    "def test(func): #---装饰函数\n",
    "    start_time=time.time() #都是以秒为单位\n",
    "#     print(func) #如果参数是函数名 那么打印的时候函数的地址\n",
    "    func() #执行具体传入的函数\n",
    "    stop_time=time.time()\n",
    "    print(\"func use time :\",stop_time-start_time)\n",
    "\n",
    "\n",
    "test(foo) #但是这里修改了函数的调用方式，还不属于装饰器，只室没有修改源代码"
   ]
  },
  {
   "cell_type": "code",
   "execution_count": 5,
   "metadata": {},
   "outputs": [
    {
     "name": "stdout",
     "output_type": "stream",
     "text": [
      "hello ziboris\n",
      "func use time : 1.000458002090454\n",
      "hello ziboris\n"
     ]
    }
   ],
   "source": [
    "import time\n",
    "def foo():#---原函数\n",
    "    print(\"hello ziboris\")\n",
    "    time.sleep(1) #time的库中的单位都是秒 \n",
    "\n",
    "def test(func): #---装饰函数\n",
    "    start_time=time.time() #都是以秒为单位\n",
    "#     print(func) #如果参数是函数名 那么打印的时候函数的地址\n",
    "    func() #执行具体传入的函数\n",
    "    stop_time=time.time()\n",
    "    print(\"func use time :\",stop_time-start_time)\n",
    "    \n",
    "    return func\n",
    "\n",
    "\n",
    "foo=test(foo) #将装饰器函数返回的函数名 重新赋值给源函数，foo这里只是一个函数的地址\n",
    "foo()\n",
    "\n",
    "#这里发现test（foo）包装的时候已经把func（即时foo）运行了一步，还需要改进\n",
    "#证明单纯的高阶函数并不能实现这个功能"
   ]
  },
  {
   "cell_type": "code",
   "execution_count": null,
   "metadata": {
    "collapsed": true
   },
   "outputs": [],
   "source": [
    "函数嵌套 + 闭包"
   ]
  },
  {
   "cell_type": "code",
   "execution_count": 6,
   "metadata": {},
   "outputs": [
    {
     "name": "stdout",
     "output_type": "stream",
     "text": [
      "我的爷爷是filedb\n"
     ]
    }
   ],
   "source": [
    "\n",
    "def father(auth_type):\n",
    "    # print('from father %s' %name)\n",
    "    def son():\n",
    "        # name='linhaifeng_1'\n",
    "        # print('我的爸爸是%s' %name)\n",
    "        def grandson():\n",
    "            print('我的爷爷是%s' %auth_type)\n",
    "        grandson()\n",
    "    # print(locals())\n",
    "    son()\n",
    "# father('linhaifeng')\n",
    "father('filedb')\n"
   ]
  },
  {
   "cell_type": "code",
   "execution_count": null,
   "metadata": {
    "collapsed": true
   },
   "outputs": [],
   "source": [
    "装饰器框架："
   ]
  },
  {
   "cell_type": "code",
   "execution_count": 10,
   "metadata": {},
   "outputs": [
    {
     "name": "stdout",
     "output_type": "stream",
     "text": [
      "helloworld\n",
      "1.000802993774414\n"
     ]
    }
   ],
   "source": [
    "import time\n",
    "def timer(func):#装饰器函数---高阶函数的作用是\n",
    "    def wrapper(): #包装函数并不是包装完就完了，只是定义一下，调用的时候再执行，只有一次\n",
    "        start_time=time.time()\n",
    "        func()\n",
    "        stop_time=time.time()#将附加功能写在包装函数闭包里面 形成功能附加\n",
    "        print(stop_time-start_time)\n",
    "    return wrapper\n",
    "\n",
    "def func(): #源函数 ：需要被添加附加功能的函数\n",
    "    time.sleep(1)\n",
    "    print(\"helloworld\")\n",
    "    \n",
    "func=timer(func) #********【重要】装饰器函数把自己包内的包装函数返回，在包装过程中没有执行\n",
    "func()"
   ]
  },
  {
   "cell_type": "code",
   "execution_count": null,
   "metadata": {
    "collapsed": true
   },
   "outputs": [],
   "source": [
    "上面出现的小瑕疵：\n",
    "确实没有改变源函数的调用方式和源函数的代码\n",
    "但是每次调用之前需要进行一次赋值（包装操作）\n",
    "----->语法糖：在源函数上面写：@装饰器函数名字"
   ]
  },
  {
   "cell_type": "code",
   "execution_count": 11,
   "metadata": {},
   "outputs": [
    {
     "name": "stdout",
     "output_type": "stream",
     "text": [
      "helloworld\n",
      "1.000091314315796\n"
     ]
    }
   ],
   "source": [
    "import time\n",
    "def timer(func):#装饰器函数---高阶函数的作用是\n",
    "    def wrapper(): #包装函数并不是包装完就完了，只是定义一下，调用的时候再执行，只有一次\n",
    "        start_time=time.time()\n",
    "        func()\n",
    "        stop_time=time.time()#将附加功能写在包装函数闭包里面 形成功能附加\n",
    "        print(stop_time-start_time)\n",
    "    return wrapper\n",
    "\n",
    "@timer\n",
    "def func(): #源函数 ：需要被添加附加功能的函数\n",
    "    time.sleep(1)\n",
    "    print(\"helloworld\")\n",
    "    \n",
    "# func=timer(func) #********【重要】装饰器函数把自己包内的包装函数返回，在包装过程中没有执行\n",
    "func()"
   ]
  },
  {
   "cell_type": "code",
   "execution_count": null,
   "metadata": {
    "collapsed": true
   },
   "outputs": [],
   "source": [
    "【注释】：这里只是将timer的函数地址赋给了新的名字func 实际是在运行装饰器函数，原来的func\n",
    "函数已经不存在了，只是原来的func函数的功能已经嵌入了装饰器函数里面\n",
    "\n",
    "牵着到新的问题，那么func源函数的返回值没有接手的函数了，需要获得源函数的返回值还要修改：\n"
   ]
  },
  {
   "cell_type": "code",
   "execution_count": 14,
   "metadata": {},
   "outputs": [
    {
     "name": "stdout",
     "output_type": "stream",
     "text": [
      "hello ziboris\n"
     ]
    }
   ],
   "source": [
    "import time\n",
    "def timer(func):\n",
    "    def wrapper(): \n",
    "        start_time=time.time()\n",
    "        res=func()\n",
    "        stop_time=time.time()\n",
    "#         print(stop_time-start_time)\n",
    "        return res #因为装饰器函数直接返回调用包装函数，因此包装函数的返回值就是装饰器函数的返回值\n",
    "    return wrapper\n",
    "\n",
    "@timer\n",
    "def func(): \n",
    "    time.sleep(1)\n",
    "#     print(\"helloworld\")\n",
    "    return \"hello ziboris\"\n",
    "    \n",
    "a=func()\n",
    "print(a)"
   ]
  },
  {
   "cell_type": "code",
   "execution_count": null,
   "metadata": {
    "collapsed": true
   },
   "outputs": [],
   "source": [
    "传参问题：不能写死有多少个参数"
   ]
  },
  {
   "cell_type": "code",
   "execution_count": 21,
   "metadata": {},
   "outputs": [
    {
     "name": "stdout",
     "output_type": "stream",
     "text": [
      "name=ziboris,age=19,address=sichuan\n",
      "RZY's husband\n",
      "=======\n",
      "name=qitasuoyouren,age=18,address=zhejiang\n",
      "sb\n"
     ]
    }
   ],
   "source": [
    "import time\n",
    "def timer(func):\n",
    "    def wrapper(*args,**kwargs): \n",
    "        start_time=time.time()\n",
    "        res=func(*args,**kwargs)\n",
    "        stop_time=time.time()\n",
    "        return res \n",
    "    return wrapper\n",
    "\n",
    "@timer\n",
    "def func(name,age=100,address=\"zhejiang\"): \n",
    "    time.sleep(1)\n",
    "    print(\"name=%s,age=%d,address=%s\" %(name,age,address))\n",
    "    return \"RZY's husband\" if name==\"ziboris\" else \"sb\"\n",
    "    \n",
    "print(func(\"ziboris\",19,\"sichuan\"))\n",
    "print(\"=======\")\n",
    "print(func(\"qitasuoyouren\",18))"
   ]
  }
 ],
 "metadata": {
  "kernelspec": {
   "display_name": "Python 3",
   "language": "python",
   "name": "python3"
  },
  "language_info": {
   "codemirror_mode": {
    "name": "ipython",
    "version": 3
   },
   "file_extension": ".py",
   "mimetype": "text/x-python",
   "name": "python",
   "nbconvert_exporter": "python",
   "pygments_lexer": "ipython3",
   "version": "3.6.3"
  }
 },
 "nbformat": 4,
 "nbformat_minor": 2
}
