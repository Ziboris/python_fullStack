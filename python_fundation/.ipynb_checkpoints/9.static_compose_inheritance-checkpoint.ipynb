{
 "cells": [
  {
   "cell_type": "code",
   "execution_count": null,
   "metadata": {
    "collapsed": true
   },
   "outputs": [],
   "source": [
    "静态属性：\n",
    "property 是class提供的装饰器 可以直接使用\n",
    "被property修饰的函数，不能和以往一样的调用方式：直接调用实例对象的函数名称，不用加上括号\n",
    "\n"
   ]
  },
  {
   "cell_type": "code",
   "execution_count": null,
   "metadata": {
    "collapsed": true
   },
   "outputs": [],
   "source": [
    "类方法：不通过创建实际实例对象就可以调用的方法\n",
    "方法前面加上classmethod关键字进行修饰 括号里面自动补充cls，代替了原来的self"
   ]
  },
  {
   "cell_type": "code",
   "execution_count": 1,
   "metadata": {},
   "outputs": [
    {
     "name": "stdout",
     "output_type": "stream",
     "text": [
      "1\n",
      "<class '__main__.Room'>\n",
      "--》 1 10\n"
     ]
    }
   ],
   "source": [
    "class Room:\n",
    "    tag=1\n",
    "    def __init__(self,name,owner,width,length,heigh):\n",
    "        self.name=name\n",
    "        self.owner=owner\n",
    "        self.width=width\n",
    "        self.length=length\n",
    "        self.heigh=heigh\n",
    "\n",
    "    @property\n",
    "    def cal_area(self):\n",
    "        # print('%s 住的 %s 总面积是%s' % (self.owner,self.name, self.width * self.length))\n",
    "        return  self.width * self.length\n",
    "\n",
    "    def test(self):\n",
    "        print('from test',self.name)\n",
    "\n",
    "    @classmethod\n",
    "    def tell_info(cls,x):\n",
    "        print(cls)\n",
    "        print('--》',cls.tag,x)#print('--》',Room.tag)\n",
    "    # def tell_info(self):\n",
    "    #     print('---->',self.tag)\n",
    "\n",
    "\n",
    "print(Room.tag)\n",
    "\n",
    "# Room.test(1) #1.name\n",
    "# r1=Room('厕所','alex',100,100,100000)\n",
    "Room.tell_info(10)\n",
    "\n",
    "# r1=Room('厕所','alex',100,100,100000)\n",
    "# r2=Room('公共厕所','yuanhao',1,1,1)\n",
    "# # print('%s 住的 %s 总面积是%s' %(r1.owner,r1.name,r1.width*r1.length))\n",
    "# # print('%s 住的 %s 总面积是%s' %(r2.owner,r2.name,r2.width*r2.length))\n",
    "# # r1.cal_area()\n",
    "# # r2.cal_area()\n",
    "# print(r1.cal_area)\n",
    "# print(r2.cal_area)\n",
    "# print(r1.name)\n",
    "# print(r2.name)"
   ]
  },
  {
   "cell_type": "code",
   "execution_count": null,
   "metadata": {
    "collapsed": true
   },
   "outputs": [],
   "source": [
    "静态方法\n",
    "只要是带self的方法都默认和创建的实例对象绑定了\n",
    "总结：property和实例绑定 \n",
    "classmethod和class绑定，和实例不绑定（实验证明好像可以运行绑定）\n",
    "到了staticmethod和谁都不绑定 谁都可以调用 只是名义上归属类管理，是类的工具包"
   ]
  },
  {
   "cell_type": "code",
   "execution_count": 2,
   "metadata": {},
   "outputs": [
    {
     "name": "stdout",
     "output_type": "stream",
     "text": [
      "{'__module__': '__main__', 'tag': 1, '__init__': <function Room.__init__ at 0x0000019248D08488>, 'cal_area': <property object at 0x0000019248CECF98>, 'tell_info': <classmethod object at 0x0000019248D1BAC8>, 'wash_body': <staticmethod object at 0x0000019248D1BB38>, 'test': <function Room.test at 0x0000019248D082F0>, '__dict__': <attribute '__dict__' of 'Room' objects>, '__weakref__': <attribute '__weakref__' of 'Room' objects>, '__doc__': None}\n",
      "{'name': '厕所', 'owner': 'alex', 'width': 100, 'length': 100, 'heigh': 100000}\n"
     ]
    }
   ],
   "source": [
    "class Room:\n",
    "    tag=1\n",
    "    def __init__(self,name,owner,width,length,heigh):\n",
    "        self.name=name\n",
    "        self.owner=owner\n",
    "        self.width=width\n",
    "        self.length=length\n",
    "        self.heigh=heigh\n",
    "\n",
    "    @property\n",
    "    def cal_area(self):\n",
    "        # print('%s 住的 %s 总面积是%s' % (self.owner,self.name, self.width * self.length))\n",
    "        return  self.width * self.length\n",
    "\n",
    "    @classmethod\n",
    "    def tell_info(cls,x):\n",
    "        print(cls)\n",
    "        print('--》',cls.tag,x)#print('--》',Room.tag)\n",
    "    # def tell_info(self):\n",
    "    #     print('---->',self.tag)\n",
    "\n",
    "    @staticmethod\n",
    "    def wash_body(a,b,c):\n",
    "        print('%s %s %s正在洗澡' %(a,b,c))\n",
    "\n",
    "    def test(x,y):\n",
    "        print(x,y)\n",
    "\n",
    "# Room.wash_body('alex','yuanhao','wupeiqi')\n",
    "\n",
    "print(Room.__dict__)\n",
    "\n",
    "\n",
    "r1=Room('厕所','alex',100,100,100000)\n",
    "\n",
    "print(r1.__dict__)\n",
    "# r1.wash_body('alex','yuanhao','wupeiqi')\n",
    "\n",
    "# Room.test(1,2)\n",
    "# r1.test(1,2)\n",
    "\n"
   ]
  },
  {
   "cell_type": "code",
   "execution_count": null,
   "metadata": {
    "collapsed": true
   },
   "outputs": [],
   "source": [
    "组合"
   ]
  },
  {
   "cell_type": "code",
   "execution_count": null,
   "metadata": {
    "collapsed": true
   },
   "outputs": [],
   "source": []
  }
 ],
 "metadata": {
  "kernelspec": {
   "display_name": "Python 3",
   "language": "python",
   "name": "python3"
  },
  "language_info": {
   "codemirror_mode": {
    "name": "ipython",
    "version": 3
   },
   "file_extension": ".py",
   "mimetype": "text/x-python",
   "name": "python",
   "nbconvert_exporter": "python",
   "pygments_lexer": "ipython3",
   "version": "3.6.3"
  }
 },
 "nbformat": 4,
 "nbformat_minor": 2
}
