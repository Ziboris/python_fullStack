{
 "cells": [
  {
   "cell_type": "code",
   "execution_count": null,
   "metadata": {
    "collapsed": true
   },
   "outputs": [],
   "source": [
    "面向对象"
   ]
  },
  {
   "cell_type": "code",
   "execution_count": 1,
   "metadata": {},
   "outputs": [
    {
     "name": "stdout",
     "output_type": "stream",
     "text": [
      "元昊 朝着墙上就是一口痰\n",
      "元昊 正在吃屎\n",
      "武sir 正在吃韭菜馅饼\n",
      "['__class__', '__delattr__', '__dict__', '__dir__', '__doc__', '__eq__', '__format__', '__ge__', '__getattribute__', '__gt__', '__hash__', '__init__', '__init_subclass__', '__le__', '__lt__', '__module__', '__ne__', '__new__', '__reduce__', '__reduce_ex__', '__repr__', '__setattr__', '__sizeof__', '__str__', '__subclasshook__', '__weakref__', 'cha_dui', 'dang', 'eat_food', 'mingzi', 'nianji', 'sui_di_tu_tan', 'xingbie']\n"
     ]
    }
   ],
   "source": [
    "class Chinese:\n",
    "    '这是一个中国人的类'\n",
    "\n",
    "    dang='共产党'\n",
    "\n",
    "    # def __init__(name,age,gender):\n",
    "    #     dic={\n",
    "    #         'name':name,\n",
    "    #         'age':age,\n",
    "    #         'gender':gender\n",
    "    #     }\n",
    "    #     return dic\n",
    "    def __init__(self,name,age,gender):\n",
    "        # print('我是初始化函数，我开始运行了')\n",
    "        self.mingzi=name  #p1.mingzi=name\n",
    "        self.nianji=age   #p1.nianji=age\n",
    "        self.xingbie=gender\n",
    "        # print('我结束啦')\n",
    "\n",
    "    def sui_di_tu_tan(self):\n",
    "        print('%s 朝着墙上就是一口痰' %self.mingzi)\n",
    "    def cha_dui(self):\n",
    "        print(self)\n",
    "        print('%s 插到了前面' %self.mingzi)\n",
    "\n",
    "    def eat_food(self,food):\n",
    "        print('%s 正在吃%s' %(self.mingzi,food))\n",
    "        \n",
    "p1=Chinese('元昊',18,'female') #--->__init__(self,name,age,gender)\n",
    "p1.sui_di_tu_tan()\n",
    "p1.eat_food('屎')\n",
    "\n",
    "p2=Chinese('武sir',10000,'姑娘')\n",
    "p2.eat_food('韭菜馅饼')\n",
    "print(dir(p2))"
   ]
  },
  {
   "cell_type": "code",
   "execution_count": null,
   "metadata": {
    "collapsed": true
   },
   "outputs": [],
   "source": [
    "dir不仅仅只是class里面可以调用，module里面同样可以，获取当前模块的属性列表；\n",
    "放在class里面，获取当前类的方法列表"
   ]
  },
  {
   "cell_type": "code",
   "execution_count": null,
   "metadata": {
    "collapsed": true
   },
   "outputs": [],
   "source": [
    "类内置方法的第一个参数都是self 相当于this指针"
   ]
  },
  {
   "cell_type": "code",
   "execution_count": 5,
   "metadata": {},
   "outputs": [
    {
     "name": "stdout",
     "output_type": "stream",
     "text": [
      "['a', 'b']\n",
      "{'name': 'alex'}\n",
      "['a', 'b', 'c']\n"
     ]
    }
   ],
   "source": [
    "class Chinese:\n",
    "    country='China'\n",
    "    l=['a','b']\n",
    "    def __init__(self,name):\n",
    "        self.name=name\n",
    "\n",
    "    def play_ball(self,ball):\n",
    "        print('%s 正在打 %s' %(self.name,ball))\n",
    "p1=Chinese('alex')\n",
    "print(p1.l)\n",
    "# p1.l=[1,2,3]\n",
    "# print(Chinese.l)\n",
    "# print(p1.__dict__)\n",
    "p1.l.append('c')\n",
    "print(p1.__dict__)\n",
    "print(Chinese.l)"
   ]
  },
  {
   "cell_type": "code",
   "execution_count": null,
   "metadata": {
    "collapsed": true
   },
   "outputs": [],
   "source": [
    "能够直接通过类名进行调用，实例对象的改变不会影响类的成员属性"
   ]
  },
  {
   "cell_type": "code",
   "execution_count": 6,
   "metadata": {},
   "outputs": [
    {
     "name": "stdout",
     "output_type": "stream",
     "text": [
      "China\n",
      "类的---> China\n",
      "实例的 日本\n"
     ]
    }
   ],
   "source": [
    "class Chinese:\n",
    "    country='China'\n",
    "    def __init__(self,name):\n",
    "        self.name=name\n",
    "\n",
    "    def play_ball(self,ball):\n",
    "        print('%s 正在打 %s' %(self.name,ball))\n",
    "p1=Chinese('alex')\n",
    "print(p1.country)\n",
    "p1.country='日本'\n",
    "print('类的--->',Chinese.country)\n",
    "print('实例的',p1.country)"
   ]
  },
  {
   "cell_type": "code",
   "execution_count": null,
   "metadata": {
    "collapsed": true
   },
   "outputs": [],
   "source": [
    "类里面的成员变量，可以通过del类.成员变量 删除"
   ]
  },
  {
   "cell_type": "code",
   "execution_count": null,
   "metadata": {
    "collapsed": true
   },
   "outputs": [],
   "source": [
    "函数也可以实现类的功能\n"
   ]
  },
  {
   "cell_type": "code",
   "execution_count": 7,
   "metadata": {},
   "outputs": [
    {
     "name": "stdout",
     "output_type": "stream",
     "text": [
      "{'name': '元昊', 'gender': '母', 'type': '中华田园犬', 'jiao': <function dog.<locals>.jiao at 0x00000234EB7B5730>, 'chi_shi': <function dog.<locals>.chi_shi at 0x00000234EB7B5620>}\n",
      "{'name': 'alex', 'gender': '母', 'type': '藏敖', 'jiao': <function dog.<locals>.jiao at 0x00000234EB7B56A8>, 'chi_shi': <function dog.<locals>.chi_shi at 0x00000234EB7B5598>}\n",
      "一条狗[元昊]，汪汪汪\n",
      "一条[藏敖] 正在吃屎\n"
     ]
    },
    {
     "ename": "NameError",
     "evalue": "name 'jiao' is not defined",
     "output_type": "error",
     "traceback": [
      "\u001b[1;31m---------------------------------------------------------------------------\u001b[0m",
      "\u001b[1;31mNameError\u001b[0m                                 Traceback (most recent call last)",
      "\u001b[1;32m<ipython-input-7-c322b9b4dea6>\u001b[0m in \u001b[0;36m<module>\u001b[1;34m()\u001b[0m\n\u001b[0;32m     37\u001b[0m \u001b[1;33m\u001b[0m\u001b[0m\n\u001b[0;32m     38\u001b[0m \u001b[1;33m\u001b[0m\u001b[0m\n\u001b[1;32m---> 39\u001b[1;33m \u001b[0mjiao\u001b[0m\u001b[1;33m(\u001b[0m\u001b[0mdog1\u001b[0m\u001b[1;33m)\u001b[0m\u001b[1;33m\u001b[0m\u001b[0m\n\u001b[0m\u001b[0;32m     40\u001b[0m \u001b[0mchi_shi\u001b[0m\u001b[1;33m(\u001b[0m\u001b[0mdog1\u001b[0m\u001b[1;33m)\u001b[0m\u001b[1;33m\u001b[0m\u001b[0m\n\u001b[0;32m     41\u001b[0m \u001b[0mchi_shi\u001b[0m\u001b[1;33m(\u001b[0m\u001b[0mdog2\u001b[0m\u001b[1;33m)\u001b[0m\u001b[1;33m\u001b[0m\u001b[0m\n",
      "\u001b[1;31mNameError\u001b[0m: name 'jiao' is not defined"
     ]
    }
   ],
   "source": [
    "dog1={\n",
    "    'name':'元昊',\n",
    "    'gender':'母',\n",
    "    'type':'藏獒'\n",
    "}\n",
    "dog2={\n",
    "    'name':'alex',\n",
    "    'gender':'母',\n",
    "    'type':'腊肠',\n",
    "}\n",
    "person1={\n",
    "    'name':'武sir',\n",
    "    'gender':'母',\n",
    "    'type':'人'\n",
    "}\n",
    "\n",
    "def dog(name,gender,type):\n",
    "    # 狗的动作\n",
    "    def jiao(dog):\n",
    "        print('一条狗[%s]，汪汪汪' % dog['name'])\n",
    "    def chi_shi(dog):\n",
    "        print('一条[%s] 正在吃屎' % dog['type'])\n",
    "    dog1 = {\n",
    "        'name':name,\n",
    "        'gender': gender,\n",
    "        'type': type,\n",
    "        'jiao':jiao,\n",
    "        'chi_shi':chi_shi,\n",
    "    }\n",
    "    return dog1\n",
    "d1=dog('元昊','母','中华田园犬')\n",
    "d2=dog('alex','母','藏敖')\n",
    "print(d1)\n",
    "print(d2)\n",
    "d1['jiao'](d1)\n",
    "d2['chi_shi'](d2)\n",
    "\n",
    "\n",
    "jiao(dog1)\n",
    "chi_shi(dog1)\n",
    "chi_shi(dog2)\n",
    "\n",
    "jiao(person1)\n"
   ]
  },
  {
   "cell_type": "code",
   "execution_count": 8,
   "metadata": {},
   "outputs": [
    {
     "name": "stdout",
     "output_type": "stream",
     "text": [
      "{'name': 'oldboy', 'addr': '沙河', 'type': '私立学校', 'kao_shi': <function school.<locals>.kao_shi at 0x00000234EB83D268>, 'zhao_sheng': <function school.<locals>.zhao_sheng at 0x00000234EB83D2F0>}\n",
      "oldboy\n",
      "私立学校 oldboy 正在招生\n",
      "{'name': '清华', 'addr': '北京', 'type': '公立学校', 'kao_shi': <function school.<locals>.kao_shi at 0x00000234EB83D840>, 'zhao_sheng': <function school.<locals>.zhao_sheng at 0x00000234EB83D8C8>}\n",
      "清华 北京 公立学校\n",
      "公立学校 清华 正在招生\n"
     ]
    }
   ],
   "source": [
    "\n",
    "def school(name,addr,type):\n",
    "    def init(name, addr, type):\n",
    "        sch = {\n",
    "            'name': name,\n",
    "            'addr': addr,\n",
    "            'type': type,\n",
    "            'kao_shi': kao_shi,\n",
    "            'zhao_sheng': zhao_sheng,\n",
    "        }\n",
    "        return sch\n",
    "    def kao_shi(school):\n",
    "        print('%s 学校正在考试' %school['name'])\n",
    "    def zhao_sheng(school):\n",
    "        print('%s %s 正在招生' %(school['type'],school['name']))\n",
    "    return  init(name,addr,type)\n",
    "\n",
    "s1=school('oldboy','沙河','私立学校')\n",
    "print(s1)\n",
    "print(s1['name'])\n",
    "\n",
    "s1['zhao_sheng'](s1)\n",
    "\n",
    "s2=school('清华','北京','公立学校')\n",
    "\n",
    "print(s2)\n",
    "print(s2['name'],s2['addr'],s2['type'])\n",
    "s2['zhao_sheng'](s2)"
   ]
  }
 ],
 "metadata": {
  "kernelspec": {
   "display_name": "Python 3",
   "language": "python",
   "name": "python3"
  },
  "language_info": {
   "codemirror_mode": {
    "name": "ipython",
    "version": 3
   },
   "file_extension": ".py",
   "mimetype": "text/x-python",
   "name": "python",
   "nbconvert_exporter": "python",
   "pygments_lexer": "ipython3",
   "version": "3.6.3"
  }
 },
 "nbformat": 4,
 "nbformat_minor": 2
}
