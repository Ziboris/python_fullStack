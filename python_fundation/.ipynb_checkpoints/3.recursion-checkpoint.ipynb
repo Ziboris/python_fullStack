{
 "cells": [
  {
   "cell_type": "code",
   "execution_count": null,
   "metadata": {
    "collapsed": true
   },
   "outputs": [],
   "source": [
    "函数变量的作用域"
   ]
  },
  {
   "cell_type": "code",
   "execution_count": 2,
   "metadata": {},
   "outputs": [
    {
     "name": "stdout",
     "output_type": "stream",
     "text": [
      "海风\n",
      "黄伟\n",
      "刘洋\n",
      "刘洋\n",
      "炉指花\n",
      "黄伟\n",
      "海风\n"
     ]
    }
   ],
   "source": [
    "name='海风'\n",
    "def huangwei():\n",
    "    name = \"黄伟\"\n",
    "    print(name)\n",
    "    def liuyang():\n",
    "        name = \"刘洋\"\n",
    "        print(name)\n",
    "        def nulige():\n",
    "            name = '炉指花'\n",
    "            print(name)\n",
    "        print(name)\n",
    "        nulige()\n",
    "    liuyang()\n",
    "    print(name)\n",
    "\n",
    "print(name)\n",
    "huangwei()\n",
    "print(name)"
   ]
  },
  {
   "cell_type": "code",
   "execution_count": 10,
   "metadata": {},
   "outputs": [
    {
     "name": "stdout",
     "output_type": "stream",
     "text": [
      "1\n",
      "2\n",
      "1\n",
      "0\n"
     ]
    }
   ],
   "source": [
    "a=0\n",
    "def test():\n",
    "    a=1\n",
    "    print(a)\n",
    "    def test2():\n",
    "        a=2\n",
    "        print(a)\n",
    "    test2()\n",
    "    print(a)\n",
    "    \n",
    "test()\n",
    "print(a)\n"
   ]
  },
  {
   "cell_type": "code",
   "execution_count": 11,
   "metadata": {},
   "outputs": [
    {
     "name": "stdout",
     "output_type": "stream",
     "text": [
      "10\n",
      "5\n",
      "2\n",
      "1\n"
     ]
    },
    {
     "data": {
      "text/plain": [
       "1"
      ]
     },
     "execution_count": 11,
     "metadata": {},
     "output_type": "execute_result"
    }
   ],
   "source": [
    "def calc(n):\n",
    "    print(n)\n",
    "    if int(n / 2) == 0: # 10/2  5/2  2/2\n",
    "        return n\n",
    "    res=calc(int(n / 2))\n",
    "    return res\n",
    "\n",
    "\n",
    "calc(10)"
   ]
  },
  {
   "cell_type": "code",
   "execution_count": null,
   "metadata": {
    "collapsed": true
   },
   "outputs": [],
   "source": [
    "前向引用"
   ]
  },
  {
   "cell_type": "code",
   "execution_count": 12,
   "metadata": {},
   "outputs": [
    {
     "name": "stdout",
     "output_type": "stream",
     "text": [
      "from foo\n",
      "from bar\n"
     ]
    }
   ],
   "source": [
    "def bar():\n",
    "    print('from bar')\n",
    "def foo():\n",
    "    print('from foo')\n",
    "    bar()\n",
    "\n",
    "foo()\n"
   ]
  },
  {
   "cell_type": "code",
   "execution_count": 13,
   "metadata": {},
   "outputs": [
    {
     "name": "stdout",
     "output_type": "stream",
     "text": [
      "from foo\n",
      "from bar\n"
     ]
    }
   ],
   "source": [
    "def foo():\n",
    "    print('from foo')\n",
    "    bar()\n",
    "\n",
    "def bar():\n",
    "    print('from bar')\n",
    "foo()"
   ]
  },
  {
   "cell_type": "code",
   "execution_count": 14,
   "metadata": {},
   "outputs": [
    {
     "name": "stdout",
     "output_type": "stream",
     "text": [
      "from foo\n",
      "from bar\n"
     ]
    }
   ],
   "source": [
    "\n",
    "def foo():\n",
    "    print('from foo')\n",
    "    bar()\n",
    "\n",
    "foo()\n",
    "\n",
    "def bar():\n",
    "    print('from bar')"
   ]
  }
 ],
 "metadata": {
  "kernelspec": {
   "display_name": "Python 3",
   "language": "python",
   "name": "python3"
  },
  "language_info": {
   "codemirror_mode": {
    "name": "ipython",
    "version": 3
   },
   "file_extension": ".py",
   "mimetype": "text/x-python",
   "name": "python",
   "nbconvert_exporter": "python",
   "pygments_lexer": "ipython3",
   "version": "3.6.3"
  }
 },
 "nbformat": 4,
 "nbformat_minor": 2
}
