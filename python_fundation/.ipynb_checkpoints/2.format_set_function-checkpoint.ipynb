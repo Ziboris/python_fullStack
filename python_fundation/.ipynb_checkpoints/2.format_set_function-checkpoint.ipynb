{
 "cells": [
  {
   "cell_type": "code",
   "execution_count": null,
   "metadata": {
    "collapsed": true
   },
   "outputs": [],
   "source": [
    "格式化字符串的几种格式，按照格式填写"
   ]
  },
  {
   "cell_type": "code",
   "execution_count": 4,
   "metadata": {},
   "outputs": [
    {
     "name": "stdout",
     "output_type": "stream",
     "text": [
      "i am seven, age 18\n"
     ]
    }
   ],
   "source": [
    "# tpl = \"i am {name}, age {age}, really {name}\".format(name=\"seven\", age=18)\n",
    "# tpl = \"i am {name}, age {age}, really {name}\".format(**{\"name\": \"seven\", \"age\": 18})\n",
    "# tpl = \"i am {:s}, age {:d}\".format(*[\"seven\", 18])\n",
    "# tpl = \"i am {:s}, age {:d}\".format(\"seven\", 18) #[\"seven\", 18]\n",
    "\n",
    "l=[\"seven\", 18]\n",
    "tpl = \"i am {:s}, age {:d}\".format('seven',18)\n",
    "print(tpl)"
   ]
  },
  {
   "cell_type": "code",
   "execution_count": 8,
   "metadata": {},
   "outputs": [
    {
     "name": "stdout",
     "output_type": "stream",
     "text": [
      "numbers: 1111,17,15,f,F, 1587.623000%,2\n"
     ]
    }
   ],
   "source": [
    "tpl = \"numbers: {:b},{:o},{:d},{:x},{:X}, {:%},{}\".format(15, 15, 15, 15, 15, 15.87623, 2) #format后面都是十进制的 转化对象的进制是前面规定的\n",
    "print(tpl)"
   ]
  },
  {
   "cell_type": "code",
   "execution_count": null,
   "metadata": {
    "collapsed": true
   },
   "outputs": [],
   "source": [
    "浮点数"
   ]
  },
  {
   "cell_type": "code",
   "execution_count": 9,
   "metadata": {},
   "outputs": [
    {
     "name": "stdout",
     "output_type": "stream",
     "text": [
      "percent 99.98\n"
     ]
    }
   ],
   "source": [
    "tpl = \"percent %.2f\" % 99.976234444444444444 #C语言的格式 字符串外面的%是指需要填入的字符是什么 和format差不多\n",
    "print(tpl)"
   ]
  },
  {
   "cell_type": "code",
   "execution_count": null,
   "metadata": {
    "collapsed": true
   },
   "outputs": [],
   "source": [
    "打印百分比"
   ]
  },
  {
   "cell_type": "code",
   "execution_count": 12,
   "metadata": {},
   "outputs": [
    {
     "name": "stdout",
     "output_type": "stream",
     "text": [
      "percent 99.98 %\n",
      "i am alex age 18\n",
      "i am                                                          lhf my hobby is alex\n",
      "i am \u001b[43;1m                                                         lhf\u001b[0m my hobby is alex\n",
      "root:x:0:0\n"
     ]
    }
   ],
   "source": [
    "tpl = 'percent %.2f %%' % 99.976234444444444444  #两个百分号，前面转义字符\n",
    "print(tpl)\n",
    "\n",
    "tpl = \"i am %(name)s age %(age)d\" % {\"name\": \"alex\", \"age\": 18}\n",
    "print(tpl)\n",
    "\n",
    "msg='i am %(name)+60s my hobby is alex' %{'name':'lhf'}\n",
    "print(msg)\n",
    "\n",
    "msg='i am \\033[43;1m%(name)+60s\\033[0m my hobby is alex' %{'name':'lhf'}\n",
    "print(msg)\n",
    "\n",
    "\n",
    "print('root','x','0','0',sep=':')"
   ]
  },
  {
   "cell_type": "code",
   "execution_count": null,
   "metadata": {
    "collapsed": true
   },
   "outputs": [],
   "source": [
    "集合及其运算"
   ]
  },
  {
   "cell_type": "code",
   "execution_count": 13,
   "metadata": {},
   "outputs": [
    {
     "name": "stdout",
     "output_type": "stream",
     "text": [
      "{'o', 'l', 'h', 'e'}\n"
     ]
    }
   ],
   "source": [
    "s=set('hello')\n",
    "print(s)"
   ]
  },
  {
   "cell_type": "code",
   "execution_count": 14,
   "metadata": {},
   "outputs": [
    {
     "name": "stdout",
     "output_type": "stream",
     "text": [
      "{'alex', 'sb'}\n"
     ]
    }
   ],
   "source": [
    "s=set(['alex','alex','sb'])\n",
    "print(s)"
   ]
  },
  {
   "cell_type": "code",
   "execution_count": 16,
   "metadata": {},
   "outputs": [
    {
     "name": "stdout",
     "output_type": "stream",
     "text": [
      "set()\n"
     ]
    }
   ],
   "source": [
    "s.clear()\n",
    "print(s)"
   ]
  },
  {
   "cell_type": "code",
   "execution_count": 21,
   "metadata": {},
   "outputs": [
    {
     "name": "stdout",
     "output_type": "stream",
     "text": [
      "{'zjw', 'lcg', 'szw'} {'lcg', 'szw', 'sb'}\n",
      "{'lcg', 'szw'}\n",
      "{'lcg', 'szw'}\n",
      "{'zjw', 'szw', 'sb', 'lcg'}\n",
      "{'zjw', 'szw', 'sb', 'lcg'}\n",
      "差集 {'zjw'}\n",
      "{'zjw'}\n",
      "差集 {'sb'}\n",
      "{'sb'}\n",
      "交叉补集 {'zjw', 'sb'}\n",
      "交叉补集 {'zjw', 'sb'}\n"
     ]
    }
   ],
   "source": [
    "python_l=['lcg','szw','zjw','lcg']\n",
    "linux_l=['lcg','szw','sb']\n",
    "p_s=set(python_l)\n",
    "l_s=set(linux_l)\n",
    "\n",
    "#求交集\n",
    "print(p_s,l_s)\n",
    "print(p_s.intersection(l_s))\n",
    "print(p_s&l_s)\n",
    "#求并集\n",
    "print(p_s.union(l_s))\n",
    "print(p_s|l_s)\n",
    "#差集\n",
    "print('差集',p_s-l_s)\n",
    "print(p_s.difference(l_s))\n",
    "print('差集',l_s-p_s)\n",
    "print(l_s.difference(p_s))\n",
    "\n",
    "#交叉补集\n",
    "print('交叉补集',p_s.symmetric_difference(l_s))\n",
    "print('交叉补集',p_s^l_s)"
   ]
  },
  {
   "cell_type": "code",
   "execution_count": null,
   "metadata": {
    "collapsed": true
   },
   "outputs": [],
   "source": [
    "子集和父集"
   ]
  },
  {
   "cell_type": "code",
   "execution_count": 22,
   "metadata": {},
   "outputs": [
    {
     "name": "stdout",
     "output_type": "stream",
     "text": [
      "True\n",
      "False\n",
      "True\n"
     ]
    }
   ],
   "source": [
    "s1={1,2}\n",
    "s2={1,2,3}\n",
    "print(s1.issubset(s2))#s1 是s2 的子集\n",
    "print(s2.issubset(s1))#False\n",
    "\n",
    "print(s2.issuperset(s1))#s1 是s2 的父集"
   ]
  },
  {
   "cell_type": "code",
   "execution_count": null,
   "metadata": {
    "collapsed": true
   },
   "outputs": [],
   "source": [
    "集合更新"
   ]
  },
  {
   "cell_type": "code",
   "execution_count": 28,
   "metadata": {},
   "outputs": [
    {
     "name": "stdout",
     "output_type": "stream",
     "text": [
      "{1, 2}\n"
     ]
    }
   ],
   "source": [
    "s1={1,2}\n",
    "s2={1,2,3}\n",
    "# s1.update(s2) #更新多个值\n",
    "\n",
    "# s1.add(1,2,3,4) #更新一个值\n",
    "s1.union(s2) #不更新\n",
    "\n",
    "print(s1)"
   ]
  },
  {
   "cell_type": "code",
   "execution_count": null,
   "metadata": {
    "collapsed": true
   },
   "outputs": [],
   "source": [
    "set是可变集合，不存在hash值，不hashable，因此没有类似数组的下标，但是for in 等循环还是可以进行遍历；可以add 和 remove方法\n",
    "frozenset 是不可变集合，存在hash值。hashable 因此可以作为dictionary的key值，一旦创建不可对其进行改变，即没有add 或者remove方法"
   ]
  },
  {
   "cell_type": "code",
   "execution_count": 29,
   "metadata": {},
   "outputs": [
    {
     "name": "stdout",
     "output_type": "stream",
     "text": [
      "frozenset({'o', 'l', 'h', 'e'})\n",
      "['wupeiqi', 'alex']\n"
     ]
    }
   ],
   "source": [
    "s=frozenset('hello')\n",
    "print(s)\n",
    "names=['alex','alex','wupeiqi']\n",
    "\n",
    "names=list(set(names))\n",
    "print(names)"
   ]
  },
  {
   "cell_type": "code",
   "execution_count": null,
   "metadata": {
    "collapsed": true
   },
   "outputs": [],
   "source": [
    "函数"
   ]
  },
  {
   "cell_type": "code",
   "execution_count": 30,
   "metadata": {},
   "outputs": [
    {
     "name": "stdout",
     "output_type": "stream",
     "text": [
      "7\n"
     ]
    }
   ],
   "source": [
    "def test():\n",
    "    '''\n",
    "    2*x+1\n",
    "    :param x:整形数字\n",
    "    :return: 返回计算结果\n",
    "    '''\n",
    "    x=3\n",
    "    y=2*x+1\n",
    "    return y\n",
    "a=test()\n",
    "print(a)"
   ]
  },
  {
   "cell_type": "code",
   "execution_count": 33,
   "metadata": {},
   "outputs": [
    {
     "name": "stdout",
     "output_type": "stream",
     "text": [
      "2 3\n"
     ]
    }
   ],
   "source": [
    "def calc(x,y): #x=2,y=3\n",
    "    res=x**y\n",
    "    return x,y\n",
    "#     return y\n",
    "res1,res2=calc(2,3)\n",
    "# print(x)\n",
    "# print(y)\n",
    "print(res1,res2)"
   ]
  },
  {
   "cell_type": "code",
   "execution_count": 39,
   "metadata": {},
   "outputs": [
    {
     "name": "stdout",
     "output_type": "stream",
     "text": [
      "1\n",
      "{'y': 2, 'z': 3}\n"
     ]
    }
   ],
   "source": [
    "def test(x,**kwargs):\n",
    "    print(x)\n",
    "    print(kwargs)\n",
    "test(1,y=2,z=3)\n",
    "# test(1,1,2,2,2,2,2,y=2,z=3)\n",
    "# test(1,y=2,z=3,z=3)#会报错 ：一个参数不能传两个值"
   ]
  }
 ],
 "metadata": {
  "kernelspec": {
   "display_name": "Python 3",
   "language": "python",
   "name": "python3"
  },
  "language_info": {
   "codemirror_mode": {
    "name": "ipython",
    "version": 3
   },
   "file_extension": ".py",
   "mimetype": "text/x-python",
   "name": "python",
   "nbconvert_exporter": "python",
   "pygments_lexer": "ipython3",
   "version": "3.6.3"
  }
 },
 "nbformat": 4,
 "nbformat_minor": 2
}
