{
 "cells": [
  {
   "cell_type": "code",
   "execution_count": null,
   "metadata": {
    "collapsed": true
   },
   "outputs": [],
   "source": [
    "filter函数:过滤函数，将列表进行过滤，只留下满足要求的数值"
   ]
  },
  {
   "cell_type": "code",
   "execution_count": 6,
   "metadata": {},
   "outputs": [
    {
     "name": "stdout",
     "output_type": "stream",
     "text": [
      "<class 'list'>\n",
      "['linhaifeng']\n"
     ]
    }
   ],
   "source": [
    "movie_people=['sb_alex','sb_wupeiqi','linhaifeng','sb_yuanhao']\n",
    "def filter_test(array):\n",
    "    ret=[]\n",
    "    for p in array:\n",
    "        if not p.startswith('sb'):\n",
    "               ret.append(p)\n",
    "    return ret\n",
    "\n",
    "res=filter_test(movie_people)\n",
    "print(type(res))\n",
    "print(res)\n"
   ]
  },
  {
   "cell_type": "code",
   "execution_count": 5,
   "metadata": {},
   "outputs": [
    {
     "name": "stdout",
     "output_type": "stream",
     "text": [
      "['linhaifeng']\n"
     ]
    }
   ],
   "source": [
    "movie_people=['alex_sb','wupeiqi_sb','linhaifeng','yuanhao_sb']\n",
    "def sb_show(n):\n",
    "    return n.endswith('sb')\n",
    "\n",
    "def filter_test(func,array):\n",
    "    ret=[]\n",
    "    for p in array:\n",
    "        if not func(p):\n",
    "               ret.append(p)\n",
    "    return ret\n",
    "\n",
    "res=filter_test(sb_show,movie_people)\n",
    "print(res)"
   ]
  },
  {
   "cell_type": "code",
   "execution_count": null,
   "metadata": {
    "collapsed": true
   },
   "outputs": [],
   "source": [
    "lambda x:y  x是传入参数，y是返回值"
   ]
  },
  {
   "cell_type": "code",
   "execution_count": 7,
   "metadata": {},
   "outputs": [
    {
     "name": "stdout",
     "output_type": "stream",
     "text": [
      "['linhaifeng']\n"
     ]
    }
   ],
   "source": [
    "movie_people=['alex_sb','wupeiqi_sb','linhaifeng','yuanhao_sb']\n",
    "def filter_test(func,array):\n",
    "    ret=[]\n",
    "    for p in array:\n",
    "        if not func(p):\n",
    "               ret.append(p)\n",
    "    return ret\n",
    "\n",
    "res=filter_test(lambda n:n.endswith('sb'),movie_people)\n",
    "print(res)"
   ]
  },
  {
   "cell_type": "code",
   "execution_count": 9,
   "metadata": {},
   "outputs": [
    {
     "name": "stdout",
     "output_type": "stream",
     "text": [
      "[2, 4]\n"
     ]
    }
   ],
   "source": [
    "myarray=[1,2,3,4,5]\n",
    "def myfunc(dfunc,myarray):\n",
    "    ret=[]\n",
    "    for i in myarray:\n",
    "        if dfunc(i):\n",
    "            ret.append(i)\n",
    "    return ret\n",
    "\n",
    "ret=myfunc(lambda x:x%2==0,myarray)\n",
    "print(ret)"
   ]
  },
  {
   "cell_type": "code",
   "execution_count": null,
   "metadata": {
    "collapsed": true
   },
   "outputs": [],
   "source": [
    "filter 已经实现了filter_test的遍历功能，不用另外写"
   ]
  },
  {
   "cell_type": "code",
   "execution_count": 12,
   "metadata": {},
   "outputs": [
    {
     "name": "stdout",
     "output_type": "stream",
     "text": [
      "['linhaifeng']\n",
      "['linhaifeng']\n"
     ]
    }
   ],
   "source": [
    "movie_people=['alex_sb','wupeiqi_sb','linhaifeng','yuanhao_sb']\n",
    "# print(filter(lambda n:not n.endswith('sb'),movie_people))\n",
    "\n",
    "res=filter(lambda n:not n.endswith('sb'),movie_people)\n",
    "print(list(res))\n",
    "\n",
    "print(list(filter(lambda n:not n.endswith('sb'),movie_people)))"
   ]
  },
  {
   "cell_type": "code",
   "execution_count": null,
   "metadata": {
    "collapsed": true
   },
   "outputs": [],
   "source": [
    "map函数:每一个列表的成员变量都进行一次操作"
   ]
  },
  {
   "cell_type": "code",
   "execution_count": 13,
   "metadata": {},
   "outputs": [
    {
     "name": "stdout",
     "output_type": "stream",
     "text": [
      "[1, 4, 100, 25, 9, 49]\n",
      "[1, 4, 100, 25, 9, 49]\n"
     ]
    }
   ],
   "source": [
    "num_l=[1,2,10,5,3,7]\n",
    "num1_l=[1,2,10,5,3,7]\n",
    "def map_test(array):\n",
    "    ret=[]\n",
    "    for i in num_l:\n",
    "        ret.append(i**2)\n",
    "    return ret\n",
    "\n",
    "ret=map_test(num_l)\n",
    "rett=map_test(num1_l)\n",
    "print(ret)\n",
    "print(rett)"
   ]
  },
  {
   "cell_type": "code",
   "execution_count": 14,
   "metadata": {},
   "outputs": [
    {
     "name": "stdout",
     "output_type": "stream",
     "text": [
      "[2, 3, 11, 6, 4, 8]\n",
      "[2, 3, 11, 6, 4, 8]\n",
      "[0, 1, 9, 4, 2, 6]\n",
      "[0, 1, 9, 4, 2, 6]\n",
      "[1, 4, 100, 25, 9, 49]\n",
      "[1, 4, 100, 25, 9, 49]\n"
     ]
    }
   ],
   "source": [
    "num_l=[1,2,10,5,3,7]\n",
    "#lambda x:x+1\n",
    "def add_one(x):\n",
    "    return x+1\n",
    "\n",
    "#lambda x:x-1\n",
    "def reduce_one(x):\n",
    "    return x-1\n",
    "\n",
    "#lambda x:x**2\n",
    "def pf(x):\n",
    "    return x**2\n",
    "\n",
    "def map_test(func,array):\n",
    "    ret=[]\n",
    "    for i in num_l:\n",
    "        res=func(i) #add_one(i)\n",
    "        ret.append(res)\n",
    "    return ret\n",
    "print(map_test(add_one,num_l))\n",
    "print(map_test(lambda x:x+1,num_l))\n",
    "\n",
    "print(map_test(reduce_one,num_l))\n",
    "print(map_test(lambda x:x-1,num_l))\n",
    "\n",
    "print(map_test(pf,num_l))\n",
    "print(map_test(lambda x:x**2,num_l))"
   ]
  },
  {
   "cell_type": "code",
   "execution_count": 17,
   "metadata": {},
   "outputs": [
    {
     "name": "stdout",
     "output_type": "stream",
     "text": [
      "[2, 3, 11, 6, 4, 8]\n",
      "内置函数map，处理结果 <map object at 0x000001E964BFC7F0>\n",
      "[2, 3, 11, 6, 4, 8]\n",
      "传的是有名函数 [0, 1, 9, 4, 2, 6]\n",
      "['L', 'I', 'N', 'H', 'A', 'I', 'F', 'E', 'N', 'G']\n"
     ]
    }
   ],
   "source": [
    "def map_test(func,array): #func=lambda x:x+1    arrary=[1,2,10,5,3,7]\n",
    "    ret=[]\n",
    "    for i in array:\n",
    "        res=func(i) #add_one(i)\n",
    "        ret.append(res)\n",
    "    return ret\n",
    "\n",
    "print(map_test(lambda x:x+1,num_l))\n",
    "res=map(lambda x:x+1,num_l)\n",
    "print('内置函数map，处理结果',res)\n",
    "# for i in res:\n",
    "#     print(i)\n",
    "print(list(res))\n",
    "print('传的是有名函数',list(map(reduce_one,num_l)))\n",
    "\n",
    "\n",
    "msg='linhaifeng'\n",
    "print(list(map(lambda x:x.upper(),msg)))"
   ]
  },
  {
   "cell_type": "code",
   "execution_count": null,
   "metadata": {
    "collapsed": true
   },
   "outputs": [],
   "source": [
    "reduce函数：用函数对1,2参数进行，返回值依次作用于后面的参数"
   ]
  },
  {
   "cell_type": "code",
   "execution_count": 18,
   "metadata": {},
   "outputs": [
    {
     "name": "stdout",
     "output_type": "stream",
     "text": [
      "107\n",
      "106\n"
     ]
    }
   ],
   "source": [
    "from functools import reduce\n",
    "num_l=[1,2,3,100]\n",
    "print(reduce(lambda x,y:x+y,num_l,1))\n",
    "print(reduce(lambda x,y:x+y,num_l))\n"
   ]
  },
  {
   "cell_type": "code",
   "execution_count": 19,
   "metadata": {},
   "outputs": [
    {
     "name": "stdout",
     "output_type": "stream",
     "text": [
      "60000\n"
     ]
    }
   ],
   "source": [
    "num_l=[1,2,3,100]\n",
    "def reduce_test(func,array,init=None):\n",
    "    if init is None:\n",
    "        res=array.pop(0)\n",
    "    else:\n",
    "        res=init\n",
    "    for num in array:\n",
    "        res=func(res,num)\n",
    "    return res\n",
    "\n",
    "print(reduce_test(lambda x,y:x*y,num_l,100))"
   ]
  },
  {
   "cell_type": "code",
   "execution_count": null,
   "metadata": {
    "collapsed": true
   },
   "outputs": [],
   "source": [
    "函数式编程（高阶函数）：\n",
    "1 函数接受的参数是一个函数名\n",
    "2 返回值包含函数"
   ]
  },
  {
   "cell_type": "code",
   "execution_count": 21,
   "metadata": {},
   "outputs": [
    {
     "name": "stdout",
     "output_type": "stream",
     "text": [
      "my name is alex\n",
      "None\n"
     ]
    }
   ],
   "source": [
    "def foo(n): #n=bar\n",
    "    print(n)\n",
    "\n",
    "def bar(name):\n",
    "    print('my name is %s' %name)\n",
    "\n",
    "# foo(bar)\n",
    "# foo(bar())\n",
    "print(bar('alex'))"
   ]
  },
  {
   "cell_type": "code",
   "execution_count": 25,
   "metadata": {},
   "outputs": [
    {
     "name": "stdout",
     "output_type": "stream",
     "text": [
      "from foo\n",
      "<class 'function'> <function bar at 0x000001E964C36730>\n",
      "from bar\n"
     ]
    }
   ],
   "source": [
    "def bar():\n",
    "    print('from bar')\n",
    "def foo():\n",
    "    print('from foo')\n",
    "    return bar\n",
    "n=foo()\n",
    "print(type(n),n)\n",
    "n()"
   ]
  },
  {
   "cell_type": "code",
   "execution_count": 28,
   "metadata": {},
   "outputs": [
    {
     "name": "stdout",
     "output_type": "stream",
     "text": [
      "from handle\n",
      "from handle\n"
     ]
    },
    {
     "data": {
      "text/plain": [
       "<function __main__.hanle>"
      ]
     },
     "execution_count": 28,
     "metadata": {},
     "output_type": "execute_result"
    }
   ],
   "source": [
    "def hanle():\n",
    "    print('from handle')\n",
    "    return hanle\n",
    "h=hanle()\n",
    "h()\n"
   ]
  },
  {
   "cell_type": "code",
   "execution_count": null,
   "metadata": {
    "collapsed": true
   },
   "outputs": [],
   "source": [
    "内置函数"
   ]
  },
  {
   "cell_type": "code",
   "execution_count": 29,
   "metadata": {},
   "outputs": [
    {
     "name": "stdout",
     "output_type": "stream",
     "text": [
      "1\n",
      "1\n",
      "True\n",
      "False\n",
      "True\n",
      "False\n",
      "True\n",
      "0b11\n"
     ]
    }
   ],
   "source": [
    "print(abs(-1))\n",
    "print(abs(1))\n",
    "\n",
    "print(all([1,2,'1']))\n",
    "print(all([1,2,'1','']))\n",
    "print(all(''))\n",
    "\n",
    "print(any([0,'']))\n",
    "print(any([0,'',1]))\n",
    "\n",
    "\n",
    "print(bin(3))"
   ]
  }
 ],
 "metadata": {
  "kernelspec": {
   "display_name": "Python 3",
   "language": "python",
   "name": "python3"
  },
  "language_info": {
   "codemirror_mode": {
    "name": "ipython",
    "version": 3
   },
   "file_extension": ".py",
   "mimetype": "text/x-python",
   "name": "python",
   "nbconvert_exporter": "python",
   "pygments_lexer": "ipython3",
   "version": "3.6.3"
  }
 },
 "nbformat": 4,
 "nbformat_minor": 2
}
